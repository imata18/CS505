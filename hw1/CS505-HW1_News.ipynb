{
 "cells": [
  {
   "cell_type": "code",
   "execution_count": 8,
   "metadata": {},
   "outputs": [],
   "source": [
    "import re\n",
    "import requests\n",
    "import pickle\n",
    "import spacy\n",
    "import httplib2\n",
    "from urllib.request import urlopen\n",
    "from bs4 import BeautifulSoup, SoupStrainer\n",
    "from newspaper import Article"
   ]
  },
  {
   "cell_type": "code",
   "execution_count": 2,
   "metadata": {},
   "outputs": [
    {
     "name": "stdout",
     "output_type": "stream",
     "text": [
      "https://www.foxnews.com/us/washington-sheriffs-deputy-stabbed-in-head-while-trying-to-arrest-rape-suspect\n"
     ]
    }
   ],
   "source": [
    "response = requests.get(url='https://www.foxnews.com/sitemap.xml?type=news')\n",
    "soup=BeautifulSoup(response.content)\n",
    "aa = soup.find('url')\n",
    "test_url = str(aa.find('loc'))[5:-6]\n",
    "print(test_url)"
   ]
  },
  {
   "cell_type": "code",
   "execution_count": 4,
   "metadata": {},
   "outputs": [],
   "source": [
    "article = Article(test_url)\n",
    "article.download()\n",
    "article.parse()\n",
    "text=article.text"
   ]
  },
  {
   "cell_type": "code",
   "execution_count": 43,
   "metadata": {},
   "outputs": [],
   "source": [
    "http = httplib2.Http()\n",
    "status, response = http.request('https://www.foxnews.com/sports')\n",
    "\n",
    "extensions = []\n",
    "for link in BeautifulSoup(response,'html.parser', parse_only=SoupStrainer('a')):\n",
    "    if link.has_attr('href'):\n",
    "        if str(link['href'])[0:1] == '/':\n",
    "            extensions.append(str(link['href']))\n",
    "fullFoxArticles = []\n",
    "for linkExtension in extensions:\n",
    "    url = 'https://www.foxnews.com' + linkExtension\n",
    "    article = Article(url)\n",
    "    article.download()\n",
    "    article.parse()\n",
    "    text=article.text\n",
    "    fullFoxArticles.append(text)"
   ]
  },
  {
   "cell_type": "code",
   "execution_count": 27,
   "metadata": {},
   "outputs": [
    {
     "name": "stdout",
     "output_type": "stream",
     "text": [
      "225\n"
     ]
    }
   ],
   "source": [
    "print(len(fullArticles))"
   ]
  },
  {
   "cell_type": "code",
   "execution_count": 40,
   "metadata": {},
   "outputs": [],
   "source": [
    "http = httplib2.Http()\n",
    "status, response = http.request('https://abcnews.go.com/Sports/Olympics')\n",
    "\n",
    "urls = []\n",
    "for link in BeautifulSoup(response,'html.parser', parse_only=SoupStrainer('a')):\n",
    "    if link.has_attr('href'):\n",
    "        if '/GMA/' in str(link['href']) or '/Sports/' in str(link['href']):\n",
    "            if str(link['href']) not in urls and str(link['href']) != '/Sports/Olympics':\n",
    "                urls.append(str(link['href']))\n",
    "\n",
    "status, response = http.request('https://abcnews.go.com/Sports')\n",
    "\n",
    "for link in BeautifulSoup(response,'html.parser', parse_only=SoupStrainer('a')):\n",
    "    if link.has_attr('href'):\n",
    "        if '/GMA/' in str(link['href']) or '/Sports/' in str(link['href']):\n",
    "            if str(link['href']) not in urls and str(link['href']) != '/Sports/Olympics':\n",
    "                urls.append(str(link['href']))\n",
    "                \n",
    "status, response = http.request('https://abcnews.go.com/Health')\n",
    "\n",
    "for link in BeautifulSoup(response,'html.parser', parse_only=SoupStrainer('a')):\n",
    "    if link.has_attr('href'):\n",
    "        if '.com/Health/' in str(link['href']):\n",
    "            if str(link['href']) not in urls:\n",
    "                urls.append(str(link['href']))\n",
    "       \n",
    "       \n",
    "fullABCArticles = []\n",
    "for link in urls:\n",
    "    article = Article(link)\n",
    "    article.download()\n",
    "    article.parse()\n",
    "    text=article.text\n",
    "    fullABCArticles.append(text)"
   ]
  },
  {
   "cell_type": "code",
   "execution_count": 42,
   "metadata": {},
   "outputs": [
    {
     "name": "stdout",
     "output_type": "stream",
     "text": [
      "141\n"
     ]
    }
   ],
   "source": [
    "print(len(fullABCArticles))"
   ]
  },
  {
   "cell_type": "code",
   "execution_count": null,
   "metadata": {},
   "outputs": [],
   "source": []
  }
 ],
 "metadata": {
  "kernelspec": {
   "display_name": "Python 3",
   "language": "python",
   "name": "python3"
  },
  "language_info": {
   "codemirror_mode": {
    "name": "ipython",
    "version": 3
   },
   "file_extension": ".py",
   "mimetype": "text/x-python",
   "name": "python",
   "nbconvert_exporter": "python",
   "pygments_lexer": "ipython3",
   "version": "3.7.4"
  }
 },
 "nbformat": 4,
 "nbformat_minor": 2
}
